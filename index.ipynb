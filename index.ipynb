{
 "cells": [
  {
   "cell_type": "markdown",
   "metadata": {},
   "source": [
    "# Generating Word Embeddings - Lab\n",
    "\n",
    "## Introduction\n",
    "\n",
    "In this lab, you'll learn how to generate word embeddings by training a Word2Vec model, and then embedding layers into Deep Neural Networks for NLP!\n",
    "\n",
    "## Objectives\n",
    "\n",
    "You will be able to:\n",
    "\n",
    "* Demonstrate a basic understanding of the architecture of the Word2Vec model\n",
    "* Demonstrate an understanding of the various tunable parameters of word2vec such as vector size and window size\n",
    "\n",
    "## Getting Started\n",
    "\n",
    "In this lab, you'll start by creating your own word embeddings by making use of the Word2Vec Model. Then, you'll move onto building Neural Networks that make use of **_Embedding Layers_** to accomplish the same end-goal, but directly in your model. \n",
    "\n",
    "As you've seen, the easiest way to make use of Word2Vec is to import it from the [Gensim Library](https://radimrehurek.com/gensim/). This model contains a full implementation of Word2Vec, which you can use to begin training immediately. For this lab, you'll be working with the [News Category Dataset from Kaggle](https://www.kaggle.com/rmisra/news-category-dataset/version/2#_=_).  This dataset contains headlines and article descriptions from the news, as well as categories for which type of article they belong to.\n",
    "\n",
    "Run the cell below to import everything you'll need for this lab. "
   ]
  },
  {
   "cell_type": "code",
   "execution_count": 1,
   "metadata": {},
   "outputs": [
    {
     "name": "stderr",
     "output_type": "stream",
     "text": [
      "/opt/conda/envs/learn-env/lib/python3.6/site-packages/smart_open/ssh.py:34: UserWarning: paramiko missing, opening SSH/SCP/SFTP paths will be disabled.  `pip install paramiko` to suppress\n",
      "  warnings.warn('paramiko missing, opening SSH/SCP/SFTP paths will be disabled.  `pip install paramiko` to suppress')\n"
     ]
    }
   ],
   "source": [
    "import pandas as pd\n",
    "import numpy as np\n",
    "np.random.seed(0)\n",
    "from gensim.models import Word2Vec\n",
    "from nltk import word_tokenize"
   ]
  },
  {
   "cell_type": "markdown",
   "metadata": {},
   "source": [
    "Now, import the data. The data stored in the file `'News_Category_Dataset_v2.json'`.  This file is compressed, so that it can be more easily stored in a github repo. **_Make sure to unzip the file before continuing!_**\n",
    "\n",
    "In the cell below, use the `read_json` function from pandas to read the dataset into a DataFrame. Be sure to include the parameter `lines=True` when reading in the dataset!\n",
    "\n",
    "Once you've loaded in the data, inspect the head of the DataFrame to see what your data looks like. "
   ]
  },
  {
   "cell_type": "code",
   "execution_count": 2,
   "metadata": {},
   "outputs": [],
   "source": [
    "import zipfile\n",
    "zip_ref = zipfile.ZipFile('News_Category_Dataset_v2.zip', 'r')\n",
    "zip_ref.extractall('.')\n",
    "zip_ref.close()"
   ]
  },
  {
   "cell_type": "code",
   "execution_count": 3,
   "metadata": {},
   "outputs": [
    {
     "name": "stdout",
     "output_type": "stream",
     "text": [
      "CONTRIBUTING.md  LICENSE.md\t\t\tNews_Category_Dataset_v2.zip\r\n",
      "index.ipynb\t News_Category_Dataset_v2.json\tREADME.md\r\n"
     ]
    }
   ],
   "source": [
    "!ls"
   ]
  },
  {
   "cell_type": "code",
   "execution_count": null,
   "metadata": {},
   "outputs": [],
   "source": [
    "raw_df = pd.read_json('News_Category_Dataset_v2.json', lines=True)\n",
    "raw_df.head()"
   ]
  },
  {
   "cell_type": "markdown",
   "metadata": {},
   "source": [
    "## Preparing the Data\n",
    "\n",
    "Since you're working with text data, you need to do some basic preprocessing including tokenization. Notice from the data sample that two different columns contain text data--`headline` and `short_description`. The more text data your Word2Vec model has, the better it will perform. Therefore, you'll want to combine the two columns before tokenizing each comment and training your Word2Vec model. \n",
    "\n",
    "In the cell below:\n",
    "\n",
    "* Create a column called `combined_text` that consists of the data from `df.headline` plus a space character (`' '`) plus the data from `df.short_description`.\n",
    "* Use the `combined_text` column's `map()` function and pass in `word_tokenize`. Store the result returned in `data`."
   ]
  },
  {
   "cell_type": "code",
   "execution_count": 11,
   "metadata": {},
   "outputs": [
    {
     "name": "stderr",
     "output_type": "stream",
     "text": [
      "[nltk_data] Downloading package punkt to /home/casual-\n",
      "[nltk_data]     port-1504/nltk_data...\n",
      "[nltk_data]   Unzipping tokenizers/punkt.zip.\n"
     ]
    },
    {
     "data": {
      "text/plain": [
       "True"
      ]
     },
     "execution_count": 11,
     "metadata": {},
     "output_type": "execute_result"
    }
   ],
   "source": [
    "import nltk\n",
    "nltk.download('punkt')"
   ]
  },
  {
   "cell_type": "code",
   "execution_count": 12,
   "metadata": {
    "collapsed": true
   },
   "outputs": [
    {
     "data": {
      "text/plain": [
       "0         [There, Were, 2, Mass, Shootings, In, Texas, L...\n",
       "1         [Will, Smith, Joins, Diplo, And, Nicky, Jam, F...\n",
       "2         [Hugh, Grant, Marries, For, The, First, Time, ...\n",
       "3         [Jim, Carrey, Blasts, 'Castrato, ', Adam, Schi...\n",
       "4         [Julianna, Margulies, Uses, Donald, Trump, Poo...\n",
       "5         [Morgan, Freeman, 'Devastated, ', That, Sexual...\n",
       "6         [Donald, Trump, Is, Lovin, ', New, McDonald, '...\n",
       "7         [What, To, Watch, On, Amazon, Prime, That, ’, ...\n",
       "8         [Mike, Myers, Reveals, He, 'd, 'Like, To, ', D...\n",
       "9         [What, To, Watch, On, Hulu, That, ’, s, New, T...\n",
       "10        [Justin, Timberlake, Visits, Texas, School, Sh...\n",
       "11        [South, Korean, President, Meets, North, Korea...\n",
       "12        [With, Its, Way, Of, Life, At, Risk, ,, This, ...\n",
       "13        [Trump, 's, Crackdown, On, Immigrant, Parents,...\n",
       "14        ['Trump, 's, Son, Should, Be, Concerned, ', :,...\n",
       "15        [Edward, Snowden, :, There, 's, No, One, Trump...\n",
       "16        [Booyah, :, Obama, Photographer, Hilariously, ...\n",
       "17        [Ireland, Votes, To, Repeal, Abortion, Amendme...\n",
       "18        [Ryan, Zinke, Looks, To, Reel, Back, Some, Cri...\n",
       "19        [Trump, 's, Scottish, Golf, Resort, Pays, Wome...\n",
       "20        [Weird, Father, 's, Day, Gifts, Your, Dad, Doe...\n",
       "21        [Twitter, #, PutStarWarsInOtherFilms, And, It,...\n",
       "22        [Mystery, 'Wolf-Like, ', Animal, Reportedly, S...\n",
       "23        [North, Korea, Still, Open, To, Talks, After, ...\n",
       "24        [2, Men, Detonate, Bomb, Inside, Indian, Resta...\n",
       "25        [Thousands, Travel, Home, To, Ireland, To, Vot...\n",
       "26        [Irish, Voters, Set, To, Liberalize, Abortion,...\n",
       "27        [Warriors, Coach, Steve, Kerr, Calls, NFL, Ban...\n",
       "28        [In, Historic, Victory, ,, Barbados, Elects, F...\n",
       "29        [Police, Killed, At, Least, 378, Black, Americ...\n",
       "                                ...                        \n",
       "200823    [Chris, Gregoire, ,, Washington, State, Govern...\n",
       "200824    [Glenn, Close, On, 'Albert, Nobbs, ', ,, Gende...\n",
       "200825    [Tinker, and, Change, the, World, Tinkering, -...\n",
       "200826    [Pregnant, and, Displaced, :, Double, the, Dan...\n",
       "200827    [Tom, Brady, Helps, Mentor, ,, Tom, Martinez, ...\n",
       "200828    [Boxer, Puppy, And, Cows, Make, Friends, Durin...\n",
       "200829    ['Black, Smoker, ', Vents, :, New, Species, Di...\n",
       "200830    [Green, Activists, :, 50, And, Older, If, you,...\n",
       "200831    [Winter, Weather, Photo, Contest, :, Submit, Y...\n",
       "200832    [Insects, Top, Newly, Discovered, Species, Lis...\n",
       "200833    [Four, More, Bank, Closures, Mark, the, Week, ...\n",
       "200834    [Everything, You, Need, To, Know, About, Overd...\n",
       "200835    [Walmart, Waving, Goodbye, To, Some, Greeters,...\n",
       "200836    [At, World, Economic, Forum, ,, Fear, of, Glob...\n",
       "200837    [Positive, Customer, Experience, :, What, 's, ...\n",
       "200838    [Sundance, ,, Ice-T, ,, and, Shades, of, the, ...\n",
       "200839    ['Girl, With, the, Dragon, Tattoo, ', India, R...\n",
       "200840    ['Do, n't, Think, ', :, A, Look, At, The, Chem...\n",
       "200841    [Matthew, Marks, Discusses, His, New, LA, Gall...\n",
       "200842    [Allard, Van, Hoorn, 's, 'Urban, Songline, ', ...\n",
       "200843    [Good, Games, --, Is, It, possible, ?, I, do, ...\n",
       "200844    [Google+, Now, Open, for, Teens, With, Some, S...\n",
       "200845    [Web, Wars, These, ``, Web, Wars, '', threaten...\n",
       "200846    [First, White, House, Chief, Technology, Offic...\n",
       "200847    [Watch, The, Top, 9, YouTube, Videos, Of, The,...\n",
       "200848    [RIM, CEO, Thorsten, Heins, ', 'Significant, '...\n",
       "200849    [Maria, Sharapova, Stunned, By, Victoria, Azar...\n",
       "200850    [Giants, Over, Patriots, ,, Jets, Over, Colts,...\n",
       "200851    [Aldon, Smith, Arrested, :, 49ers, Linebacker,...\n",
       "200852    [Dwight, Howard, Rips, Teammates, After, Magic...\n",
       "Name: combined_text, Length: 200853, dtype: object"
      ]
     },
     "execution_count": 12,
     "metadata": {},
     "output_type": "execute_result"
    }
   ],
   "source": [
    "raw_df['combined_text'] = raw_df.headline + ' ' + raw_df.short_description\n",
    "data = raw_df.combined_text.map(word_tokenize)"
   ]
  },
  {
   "cell_type": "markdown",
   "metadata": {},
   "source": [
    "Inspect the first 5 items in `data` to see how everything looks. "
   ]
  },
  {
   "cell_type": "code",
   "execution_count": 13,
   "metadata": {},
   "outputs": [
    {
     "data": {
      "text/plain": [
       "0    [There, Were, 2, Mass, Shootings, In, Texas, L...\n",
       "1    [Will, Smith, Joins, Diplo, And, Nicky, Jam, F...\n",
       "2    [Hugh, Grant, Marries, For, The, First, Time, ...\n",
       "3    [Jim, Carrey, Blasts, 'Castrato, ', Adam, Schi...\n",
       "4    [Julianna, Margulies, Uses, Donald, Trump, Poo...\n",
       "Name: combined_text, dtype: object"
      ]
     },
     "execution_count": 13,
     "metadata": {},
     "output_type": "execute_result"
    }
   ],
   "source": [
    "data[:5]"
   ]
  },
  {
   "cell_type": "markdown",
   "metadata": {},
   "source": [
    "Notice that although the words are tokenized, they are still in the same order they were in as headlines. This is important, because the words need to be in their original order for Word2Vec to establish the meaning of them. Remember that for a Word2Vec model you can specify a  **_Window Size_** that tells the model how many words to take into consideration at one time. \n",
    "\n",
    "If your window size was 5, then the model would start by looking at the words \"Will Smith joins Diplo and\", and then slide the window by one, so that it's looking at \"Smith joins Diplo and Nicky\", and so on, until it had completely processed the text example at index 1 above. By doing this for every piece of text in the entire dataset, the Word2Vec model learns excellent vector representations for each word in an **_Embedding Space_**, where the relationships between vectors capture semantic meaning (recall the vector that captures gender in the previous \"king - man + woman = queen\" example you saw).\n",
    "\n",
    "Now that you've prepared the data, train your model and explore a bit!\n",
    "\n",
    "## Training the Model\n",
    "\n",
    "Start by instantiating a Word2Vec Model from gensim below. \n",
    "\n",
    "In the cell below:\n",
    "\n",
    "* Create a `Word2Vec` model and pass in the following arguments:\n",
    "    * The dataset we'll be training on, `data`\n",
    "    * The size of the word vectors to create, `size=100`\n",
    "    * The window size, `window=5`\n",
    "    * The minimum number of times a word needs to appear in order to be counted in  the model, `min_count=1`.\n",
    "    * The number of threads to use during training, `workers=4`"
   ]
  },
  {
   "cell_type": "code",
   "execution_count": 14,
   "metadata": {},
   "outputs": [],
   "source": [
    "model = Word2Vec(data, size=100, window=5, min_count=1, workers=4)"
   ]
  },
  {
   "cell_type": "markdown",
   "metadata": {},
   "source": [
    "Now, that you've instantiated Word2Vec model, train it on your text data. \n",
    "\n",
    "In the cell below:\n",
    "\n",
    "* Call `model.train()` and pass in the following parameters:\n",
    "    * The dataset we'll be training on, `data`\n",
    "    * The `total_examples`  of sentences in the dataset, which you can find in `model.corpus_count`. \n",
    "    * The number of `epochs` you want to train for, which we'll set to `10`"
   ]
  },
  {
   "cell_type": "code",
   "execution_count": 15,
   "metadata": {},
   "outputs": [
    {
     "data": {
      "text/plain": [
       "(55564248, 67352790)"
      ]
     },
     "execution_count": 15,
     "metadata": {},
     "output_type": "execute_result"
    }
   ],
   "source": [
    "model.train(data, total_examples=model.corpus_count, epochs=10)"
   ]
  },
  {
   "cell_type": "markdown",
   "metadata": {},
   "source": [
    "Great! you now have a fully trained model! The word vectors themselves are stored inside of a `Word2VecKeyedVectors` instance, which is stored inside of `model.wv`. To simplify this, restore this object inside of the variable `wv` to save yourself some keystrokes down the line. "
   ]
  },
  {
   "cell_type": "code",
   "execution_count": 16,
   "metadata": {},
   "outputs": [],
   "source": [
    "wv = model.wv"
   ]
  },
  {
   "cell_type": "markdown",
   "metadata": {},
   "source": [
    "## Examining Your Word Vectors\n",
    "\n",
    "Now that you have a trained Word2Vec model, go ahead and explore the relationships between some of the words in the corpus! \n",
    "\n",
    "One cool thing you can use Word2Vec for is to get the most similar words to a given word. You can do this passing in the word to `wv.most_similar()`. \n",
    "\n",
    "In the cell below, try getting the most similar word to `'Texas'`."
   ]
  },
  {
   "cell_type": "code",
   "execution_count": 17,
   "metadata": {},
   "outputs": [
    {
     "data": {
      "text/plain": [
       "[('Maryland', 0.8290488123893738),\n",
       " ('Pennsylvania', 0.8175821900367737),\n",
       " ('Massachusetts', 0.8155899047851562),\n",
       " ('Connecticut', 0.8142840266227722),\n",
       " ('Ohio', 0.813827633857727),\n",
       " ('Oregon', 0.7990532517433167),\n",
       " ('Florida', 0.79667067527771),\n",
       " ('Illinois', 0.7950600385665894),\n",
       " ('Louisiana', 0.7931817173957825),\n",
       " ('Georgia', 0.7897281646728516)]"
      ]
     },
     "execution_count": 17,
     "metadata": {},
     "output_type": "execute_result"
    }
   ],
   "source": [
    "wv.most_similar('Texas')"
   ]
  },
  {
   "cell_type": "markdown",
   "metadata": {},
   "source": [
    "Interesting! All of the most similar words are also states. \n",
    "\n",
    "You can also get the least similar vectors to a given word by passing in the word to the `most_similar()` function's `negative` parameter. \n",
    "\n",
    "In the cell below, get the least similar words to `'Texas'`."
   ]
  },
  {
   "cell_type": "code",
   "execution_count": 21,
   "metadata": {},
   "outputs": [
    {
     "data": {
      "text/plain": [
       "[('Begets', 0.3858609199523926),\n",
       " ('Uglies', 0.3821784555912018),\n",
       " ('was/am', 0.3776339590549469),\n",
       " ('leaped', 0.3769286870956421),\n",
       " ('Parent/Grandparent', 0.367917001247406),\n",
       " ('maitre', 0.36749082803726196),\n",
       " ('Reformist', 0.3612399399280548),\n",
       " ('Per-Mile', 0.3579532206058502),\n",
       " ('renaming', 0.35522010922431946),\n",
       " ('Strategist™', 0.3523173928260803)]"
      ]
     },
     "execution_count": 21,
     "metadata": {},
     "output_type": "execute_result"
    }
   ],
   "source": [
    "wv.most_similar(negative=['Texas'])"
   ]
  },
  {
   "cell_type": "markdown",
   "metadata": {},
   "source": [
    "This seems like random noise. It is a result of the way Word2Vec is computing the similarity between word vectors in the embedding space. Although the word vectors closest to a given word vector are almost certainly going to have similar meaning or connotation with your given word, the word vectors that the model considers 'least similar' are just the word vectors that are farthest away, or have the lowest cosine similarity. It's important to understand that while the closest vectors in the embedding space will almost certainly share some level of semantic meaning with a given word, there is no guarantee that this relationship will hold at large distances. \n",
    "\n",
    "You can also get the vector for a given word by passing in the word as if you were passing in a key to a dictionary. \n",
    "\n",
    "In the cell below, get the word vector for `'Texas'`."
   ]
  },
  {
   "cell_type": "code",
   "execution_count": null,
   "metadata": {},
   "outputs": [],
   "source": []
  },
  {
   "cell_type": "markdown",
   "metadata": {},
   "source": [
    "Now get all of the word vectors from the object at once. You can find these inside of `wv.vectors`. Try it out in the cell below.  "
   ]
  },
  {
   "cell_type": "code",
   "execution_count": null,
   "metadata": {},
   "outputs": [],
   "source": []
  },
  {
   "cell_type": "markdown",
   "metadata": {},
   "source": [
    "As a final exercise, try to recreate the _'king' - 'man' + 'woman' = 'queen'_ example previously mentioned. You can do this by using the `most_similar` function and translating the word analogies into an addition/subtraction formulation (as shown above). Pass the original comparison, which you are calculating a difference between, to the negative parameter, and the analogous starter you want to apply the same transformation to, to the `positive` parameter.\n",
    "\n",
    "Do this now in the cell below. "
   ]
  },
  {
   "cell_type": "code",
   "execution_count": null,
   "metadata": {},
   "outputs": [],
   "source": []
  },
  {
   "cell_type": "markdown",
   "metadata": {},
   "source": [
    "As you can see from the output above, your model isn't perfect, but 'Queen' is still in the top 3, and with 'Princess' not too far behind. As you can see from the word in first place, 'reminiscent', your model is far from perfect. This is likely because you didn't have enough training data. That said, given the small amount of training data provided, the model still performs remarkably well! \n",
    "\n",
    "In the next lab, you'll reinvestigate transfer learning, loading in the weights from an open-sourced model that has already been trained for a very long time on a massive amount of data. Specifically, you'll work with the GloVe model from the Stanford NLP Group. There's not really any benefit from training the model ourselves, unless your text uses different, specialized vocabulary that isn't likely to be well represented inside an open-source model.\n",
    "\n",
    "## Summary\n",
    "\n",
    "In this lab, you learned how to train and use a Word2Vec model to created vectorized word embeddings!"
   ]
  }
 ],
 "metadata": {
  "kernelspec": {
   "display_name": "Python 3",
   "language": "python",
   "name": "python3"
  },
  "language_info": {
   "codemirror_mode": {
    "name": "ipython",
    "version": 3
   },
   "file_extension": ".py",
   "mimetype": "text/x-python",
   "name": "python",
   "nbconvert_exporter": "python",
   "pygments_lexer": "ipython3",
   "version": "3.6.6"
  }
 },
 "nbformat": 4,
 "nbformat_minor": 2
}
